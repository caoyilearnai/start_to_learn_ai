{
 "cells": [
  {
   "cell_type": "code",
   "id": "initial_id",
   "metadata": {
    "collapsed": true,
    "ExecuteTime": {
     "end_time": "2025-08-25T14:42:19.878606Z",
     "start_time": "2025-08-25T14:42:19.874938Z"
    }
   },
   "source": "import numpy as np",
   "outputs": [],
   "execution_count": 5
  },
  {
   "metadata": {
    "ExecuteTime": {
     "end_time": "2025-08-25T14:42:16.008737Z",
     "start_time": "2025-08-25T14:42:15.318732Z"
    }
   },
   "cell_type": "code",
   "source": "a=np.zeros(3,dtype=int)",
   "id": "71205bc89063a5da",
   "outputs": [
    {
     "ename": "AttributeError",
     "evalue": "module 'numpy' has no attribute 'zeros'",
     "output_type": "error",
     "traceback": [
      "\u001B[0;31m---------------------------------------------------------------------------\u001B[0m",
      "\u001B[0;31mAttributeError\u001B[0m                            Traceback (most recent call last)",
      "Cell \u001B[0;32mIn[4], line 1\u001B[0m\n\u001B[0;32m----> 1\u001B[0m a\u001B[38;5;241m=\u001B[39m\u001B[43mnp\u001B[49m\u001B[38;5;241;43m.\u001B[39;49m\u001B[43mzeros\u001B[49m(\u001B[38;5;241m3\u001B[39m,dtype\u001B[38;5;241m=\u001B[39m\u001B[38;5;28mint\u001B[39m)\n",
      "\u001B[0;31mAttributeError\u001B[0m: module 'numpy' has no attribute 'zeros'"
     ]
    }
   ],
   "execution_count": 4
  },
  {
   "metadata": {
    "ExecuteTime": {
     "end_time": "2025-08-23T16:07:29.937166Z",
     "start_time": "2025-08-23T16:07:29.929044Z"
    }
   },
   "cell_type": "code",
   "source": "a",
   "id": "6d2c201d4ba6f08f",
   "outputs": [
    {
     "data": {
      "text/plain": [
       "array([0, 0, 0])"
      ]
     },
     "execution_count": 3,
     "metadata": {},
     "output_type": "execute_result"
    }
   ],
   "execution_count": 3
  },
  {
   "metadata": {
    "ExecuteTime": {
     "end_time": "2025-08-23T16:07:31.702958Z",
     "start_time": "2025-08-23T16:07:31.694846Z"
    }
   },
   "cell_type": "code",
   "source": "b=np.asarray([[1,2],[3,4]],dtype=int)",
   "id": "f5d631932fc344a8",
   "outputs": [],
   "execution_count": 4
  },
  {
   "metadata": {
    "ExecuteTime": {
     "end_time": "2025-08-19T15:18:52.320630Z",
     "start_time": "2025-08-19T15:18:52.309629Z"
    }
   },
   "cell_type": "code",
   "source": "b",
   "id": "bad8170d420f13b",
   "outputs": [
    {
     "data": {
      "text/plain": [
       "array([[1, 2],\n",
       "       [3, 4]])"
      ]
     },
     "execution_count": 5,
     "metadata": {},
     "output_type": "execute_result"
    }
   ],
   "execution_count": 5
  },
  {
   "metadata": {
    "ExecuteTime": {
     "end_time": "2025-08-19T15:23:16.612871Z",
     "start_time": "2025-08-19T15:23:16.597862Z"
    }
   },
   "cell_type": "code",
   "source": "np.sum(b,axis=0)",
   "id": "a9cffd4fccb980e0",
   "outputs": [
    {
     "data": {
      "text/plain": [
       "array([4, 6])"
      ]
     },
     "execution_count": 7,
     "metadata": {},
     "output_type": "execute_result"
    }
   ],
   "execution_count": 7
  },
  {
   "metadata": {
    "ExecuteTime": {
     "end_time": "2025-08-23T16:07:36.285244Z",
     "start_time": "2025-08-23T16:07:36.268085Z"
    }
   },
   "cell_type": "code",
   "source": "np.sum(b,axis=1)",
   "id": "cee4903fddd32a52",
   "outputs": [
    {
     "data": {
      "text/plain": [
       "array([3, 7])"
      ]
     },
     "execution_count": 5,
     "metadata": {},
     "output_type": "execute_result"
    }
   ],
   "execution_count": 5
  },
  {
   "metadata": {
    "ExecuteTime": {
     "end_time": "2025-08-19T15:37:31.681709Z",
     "start_time": "2025-08-19T15:37:31.675703Z"
    }
   },
   "cell_type": "code",
   "source": [
    "import numpy as np\n",
    "\n",
    "s =  b'Hello World'\n",
    "a = np.frombuffer(s, dtype =  'S1')\n",
    "print (a)"
   ],
   "id": "2ab1496c9686b4fa",
   "outputs": [
    {
     "name": "stdout",
     "output_type": "stream",
     "text": [
      "[b'H' b'e' b'l' b'l' b'o' b' ' b'W' b'o' b'r' b'l' b'd']\n"
     ]
    }
   ],
   "execution_count": 9
  },
  {
   "metadata": {
    "ExecuteTime": {
     "end_time": "2025-08-19T15:38:47.358275Z",
     "start_time": "2025-08-19T15:38:47.353269Z"
    }
   },
   "cell_type": "code",
   "source": [
    "list=range(5)\n",
    "it=iter(list)"
   ],
   "id": "bddf670346f0fde5",
   "outputs": [],
   "execution_count": 10
  },
  {
   "metadata": {
    "ExecuteTime": {
     "end_time": "2025-08-19T15:39:00.674772Z",
     "start_time": "2025-08-19T15:39:00.664770Z"
    }
   },
   "cell_type": "code",
   "source": "x=np.fromiter(it,dtype=int)",
   "id": "791a390e7c25a10c",
   "outputs": [],
   "execution_count": 11
  },
  {
   "metadata": {
    "ExecuteTime": {
     "end_time": "2025-08-19T15:39:03.363091Z",
     "start_time": "2025-08-19T15:39:03.346090Z"
    }
   },
   "cell_type": "code",
   "source": "print(x)",
   "id": "c1bd73969e4eb53c",
   "outputs": [
    {
     "name": "stdout",
     "output_type": "stream",
     "text": [
      "[0 1 2 3 4]\n"
     ]
    }
   ],
   "execution_count": 12
  },
  {
   "metadata": {
    "ExecuteTime": {
     "end_time": "2025-08-19T15:43:36.541511Z",
     "start_time": "2025-08-19T15:43:36.537508Z"
    }
   },
   "cell_type": "code",
   "source": [
    "a = np.linspace(10, 12,  5, endpoint =  True)\n",
    "print(a)"
   ],
   "id": "2cc5c01b77163b",
   "outputs": [
    {
     "name": "stdout",
     "output_type": "stream",
     "text": [
      "[10.  10.5 11.  11.5 12. ]\n"
     ]
    }
   ],
   "execution_count": 15
  },
  {
   "metadata": {
    "ExecuteTime": {
     "end_time": "2025-08-19T15:47:29.429103Z",
     "start_time": "2025-08-19T15:47:29.418102Z"
    }
   },
   "cell_type": "code",
   "source": [
    "b=np.random.random(5)\n",
    "print(b)"
   ],
   "id": "ce9a52b50924ca65",
   "outputs": [
    {
     "name": "stdout",
     "output_type": "stream",
     "text": [
      "[0.56511786 0.87785117 0.86526071 0.82153652 0.09343963]\n"
     ]
    }
   ],
   "execution_count": 16
  },
  {
   "metadata": {
    "ExecuteTime": {
     "end_time": "2025-08-19T15:47:46.676104Z",
     "start_time": "2025-08-19T15:47:46.666103Z"
    }
   },
   "cell_type": "code",
   "source": "b[1:]",
   "id": "386446c3124e8163",
   "outputs": [
    {
     "data": {
      "text/plain": [
       "array([0.87785117, 0.86526071, 0.82153652, 0.09343963])"
      ]
     },
     "execution_count": 17,
     "metadata": {},
     "output_type": "execute_result"
    }
   ],
   "execution_count": 17
  },
  {
   "metadata": {
    "ExecuteTime": {
     "end_time": "2025-08-19T15:48:49.639295Z",
     "start_time": "2025-08-19T15:48:49.629295Z"
    }
   },
   "cell_type": "code",
   "source": "b[1]",
   "id": "64668f840374986b",
   "outputs": [
    {
     "data": {
      "text/plain": [
       "0.877851166032028"
      ]
     },
     "execution_count": 18,
     "metadata": {},
     "output_type": "execute_result"
    }
   ],
   "execution_count": 18
  },
  {
   "metadata": {
    "ExecuteTime": {
     "end_time": "2025-08-23T16:07:45.303937Z",
     "start_time": "2025-08-23T16:07:45.274393Z"
    }
   },
   "cell_type": "code",
   "source": "c=np.random.random((2,3,4))",
   "id": "b49682cc3bb8d6d0",
   "outputs": [],
   "execution_count": 8
  },
  {
   "metadata": {
    "ExecuteTime": {
     "end_time": "2025-08-23T16:07:46.649259Z",
     "start_time": "2025-08-23T16:07:46.637597Z"
    }
   },
   "cell_type": "code",
   "source": "c",
   "id": "de5fe47c0bd3fdba",
   "outputs": [
    {
     "data": {
      "text/plain": [
       "array([[[0.68665348, 0.17367752, 0.22147858, 0.59066245],\n",
       "        [0.91288808, 0.56765496, 0.42739953, 0.60371833],\n",
       "        [0.85471018, 0.40393944, 0.84050543, 0.59018804]],\n",
       "\n",
       "       [[0.53567886, 0.85905892, 0.54858854, 0.25267769],\n",
       "        [0.08828235, 0.17455079, 0.55061325, 0.06436036],\n",
       "        [0.21545674, 0.03068614, 0.79518656, 0.98423112]]])"
      ]
     },
     "execution_count": 9,
     "metadata": {},
     "output_type": "execute_result"
    }
   ],
   "execution_count": 9
  },
  {
   "metadata": {
    "ExecuteTime": {
     "end_time": "2025-08-23T16:07:48.276584Z",
     "start_time": "2025-08-23T16:07:48.262438Z"
    }
   },
   "cell_type": "code",
   "source": "c.shape",
   "id": "559e77f74fef178a",
   "outputs": [
    {
     "data": {
      "text/plain": [
       "(2, 3, 4)"
      ]
     },
     "execution_count": 10,
     "metadata": {},
     "output_type": "execute_result"
    }
   ],
   "execution_count": 10
  },
  {
   "metadata": {
    "ExecuteTime": {
     "end_time": "2025-08-19T15:49:41.803081Z",
     "start_time": "2025-08-19T15:49:41.791080Z"
    }
   },
   "cell_type": "code",
   "source": "c[0][0][0]",
   "id": "49be96ff2438775",
   "outputs": [
    {
     "data": {
      "text/plain": [
       "0.013180651124154119"
      ]
     },
     "execution_count": 22,
     "metadata": {},
     "output_type": "execute_result"
    }
   ],
   "execution_count": 22
  },
  {
   "metadata": {
    "ExecuteTime": {
     "end_time": "2025-08-19T15:51:14.713144Z",
     "start_time": "2025-08-19T15:51:14.707137Z"
    }
   },
   "cell_type": "code",
   "source": "c.sum(axis=2)",
   "id": "f149f5b213bcc80f",
   "outputs": [
    {
     "data": {
      "text/plain": [
       "array([[1.94263241, 3.05000282, 2.06421768],\n",
       "       [2.73771621, 2.35443603, 2.68408288]])"
      ]
     },
     "execution_count": 24,
     "metadata": {},
     "output_type": "execute_result"
    }
   ],
   "execution_count": 24
  },
  {
   "metadata": {},
   "cell_type": "code",
   "outputs": [],
   "execution_count": null,
   "source": "",
   "id": "921f0e97cb86d2c4"
  }
 ],
 "metadata": {
  "kernelspec": {
   "display_name": "Python 3",
   "language": "python",
   "name": "python3"
  },
  "language_info": {
   "codemirror_mode": {
    "name": "ipython",
    "version": 2
   },
   "file_extension": ".py",
   "mimetype": "text/x-python",
   "name": "python",
   "nbconvert_exporter": "python",
   "pygments_lexer": "ipython2",
   "version": "2.7.6"
  }
 },
 "nbformat": 4,
 "nbformat_minor": 5
}
